{
 "cells": [
  {
   "cell_type": "code",
   "execution_count": 21,
   "id": "a1a44de3-e534-4dd2-acd4-5e7406d827a9",
   "metadata": {},
   "outputs": [],
   "source": [
    "import numpy as np\n",
    "from PIL import Image"
   ]
  },
  {
   "cell_type": "code",
   "execution_count": 31,
   "id": "a2be2c3d-30c5-4597-96f4-90f1f7182440",
   "metadata": {},
   "outputs": [],
   "source": [
    "my_image=Image.open(\"./imza2.jpg\").convert(\"RGB\")\n",
    "\n",
    "my_img_normalize=np.array(my_image)/255.0\n",
    "\n",
    "my_img_normalize[my_img_normalize > 0.5]=1\n",
    "\n",
    "my_img_uint8=(my_img_normalize*255).astype(np.uint8)\n",
    "\n",
    "my_img_final=Image.fromarray(my_img_uint8)\n",
    "\n",
    "my_img_final.save(\"./my_modified_signature.png\")"
   ]
  },
  {
   "cell_type": "code",
   "execution_count": null,
   "id": "a9fb2b39-6def-47a9-8109-568046da82eb",
   "metadata": {},
   "outputs": [],
   "source": []
  }
 ],
 "metadata": {
  "kernelspec": {
   "display_name": "env_ybs",
   "language": "python",
   "name": "env_ybs"
  },
  "language_info": {
   "codemirror_mode": {
    "name": "ipython",
    "version": 3
   },
   "file_extension": ".py",
   "mimetype": "text/x-python",
   "name": "python",
   "nbconvert_exporter": "python",
   "pygments_lexer": "ipython3",
   "version": "3.10.10"
  }
 },
 "nbformat": 4,
 "nbformat_minor": 5
}
