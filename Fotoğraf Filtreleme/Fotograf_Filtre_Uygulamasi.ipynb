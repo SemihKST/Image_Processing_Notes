{
 "cells": [
  {
   "cell_type": "code",
   "execution_count": 1,
   "id": "558f61e3-f7d9-4c2f-b2d8-3f55a7bdfa07",
   "metadata": {},
   "outputs": [
    {
     "name": "stdout",
     "output_type": "stream",
     "text": [
      "Requirement already satisfied: gradio in c:\\users\\kusutoqlu\\anaconda3\\lib\\site-packages (5.1.0)\n",
      "Requirement already satisfied: aiofiles<24.0,>=22.0 in c:\\users\\kusutoqlu\\anaconda3\\lib\\site-packages (from gradio) (23.2.1)\n",
      "Requirement already satisfied: anyio<5.0,>=3.0 in c:\\users\\kusutoqlu\\anaconda3\\lib\\site-packages (from gradio) (4.2.0)\n",
      "Requirement already satisfied: fastapi<1.0 in c:\\users\\kusutoqlu\\anaconda3\\lib\\site-packages (from gradio) (0.115.2)\n",
      "Requirement already satisfied: ffmpy in c:\\users\\kusutoqlu\\anaconda3\\lib\\site-packages (from gradio) (0.4.0)\n",
      "Requirement already satisfied: gradio-client==1.4.0 in c:\\users\\kusutoqlu\\anaconda3\\lib\\site-packages (from gradio) (1.4.0)\n",
      "Requirement already satisfied: httpx>=0.24.1 in c:\\users\\kusutoqlu\\anaconda3\\lib\\site-packages (from gradio) (0.27.0)\n",
      "Requirement already satisfied: huggingface-hub>=0.25.1 in c:\\users\\kusutoqlu\\anaconda3\\lib\\site-packages (from gradio) (0.26.0)\n",
      "Requirement already satisfied: jinja2<4.0 in c:\\users\\kusutoqlu\\anaconda3\\lib\\site-packages (from gradio) (3.1.4)\n",
      "Requirement already satisfied: markupsafe~=2.0 in c:\\users\\kusutoqlu\\anaconda3\\lib\\site-packages (from gradio) (2.1.3)\n",
      "Requirement already satisfied: numpy<3.0,>=1.0 in c:\\users\\kusutoqlu\\anaconda3\\lib\\site-packages (from gradio) (1.26.4)\n",
      "Requirement already satisfied: orjson~=3.0 in c:\\users\\kusutoqlu\\anaconda3\\lib\\site-packages (from gradio) (3.10.7)\n",
      "Requirement already satisfied: packaging in c:\\users\\kusutoqlu\\anaconda3\\lib\\site-packages (from gradio) (23.2)\n",
      "Requirement already satisfied: pandas<3.0,>=1.0 in c:\\users\\kusutoqlu\\anaconda3\\lib\\site-packages (from gradio) (2.2.2)\n",
      "Requirement already satisfied: pillow<11.0,>=8.0 in c:\\users\\kusutoqlu\\anaconda3\\lib\\site-packages (from gradio) (10.3.0)\n",
      "Requirement already satisfied: pydantic>=2.0 in c:\\users\\kusutoqlu\\anaconda3\\lib\\site-packages (from gradio) (2.5.3)\n",
      "Requirement already satisfied: pydub in c:\\users\\kusutoqlu\\anaconda3\\lib\\site-packages (from gradio) (0.25.1)\n",
      "Requirement already satisfied: python-multipart>=0.0.9 in c:\\users\\kusutoqlu\\anaconda3\\lib\\site-packages (from gradio) (0.0.12)\n",
      "Requirement already satisfied: pyyaml<7.0,>=5.0 in c:\\users\\kusutoqlu\\anaconda3\\lib\\site-packages (from gradio) (6.0.1)\n",
      "Requirement already satisfied: ruff>=0.2.2 in c:\\users\\kusutoqlu\\anaconda3\\lib\\site-packages (from gradio) (0.7.0)\n",
      "Requirement already satisfied: semantic-version~=2.0 in c:\\users\\kusutoqlu\\anaconda3\\lib\\site-packages (from gradio) (2.10.0)\n",
      "Requirement already satisfied: tomlkit==0.12.0 in c:\\users\\kusutoqlu\\anaconda3\\lib\\site-packages (from gradio) (0.12.0)\n",
      "Requirement already satisfied: typer<1.0,>=0.12 in c:\\users\\kusutoqlu\\anaconda3\\lib\\site-packages (from gradio) (0.12.5)\n",
      "Requirement already satisfied: typing-extensions~=4.0 in c:\\users\\kusutoqlu\\anaconda3\\lib\\site-packages (from gradio) (4.11.0)\n",
      "Requirement already satisfied: uvicorn>=0.14.0 in c:\\users\\kusutoqlu\\anaconda3\\lib\\site-packages (from gradio) (0.32.0)\n",
      "Requirement already satisfied: fsspec in c:\\users\\kusutoqlu\\anaconda3\\lib\\site-packages (from gradio-client==1.4.0->gradio) (2024.3.1)\n",
      "Requirement already satisfied: websockets<13.0,>=10.0 in c:\\users\\kusutoqlu\\anaconda3\\lib\\site-packages (from gradio-client==1.4.0->gradio) (12.0)\n",
      "Requirement already satisfied: idna>=2.8 in c:\\users\\kusutoqlu\\anaconda3\\lib\\site-packages (from anyio<5.0,>=3.0->gradio) (3.7)\n",
      "Requirement already satisfied: sniffio>=1.1 in c:\\users\\kusutoqlu\\anaconda3\\lib\\site-packages (from anyio<5.0,>=3.0->gradio) (1.3.0)\n",
      "Requirement already satisfied: starlette<0.41.0,>=0.37.2 in c:\\users\\kusutoqlu\\anaconda3\\lib\\site-packages (from fastapi<1.0->gradio) (0.40.0)\n",
      "Requirement already satisfied: certifi in c:\\users\\kusutoqlu\\anaconda3\\lib\\site-packages (from httpx>=0.24.1->gradio) (2024.8.30)\n",
      "Requirement already satisfied: httpcore==1.* in c:\\users\\kusutoqlu\\anaconda3\\lib\\site-packages (from httpx>=0.24.1->gradio) (1.0.2)\n",
      "Requirement already satisfied: h11<0.15,>=0.13 in c:\\users\\kusutoqlu\\anaconda3\\lib\\site-packages (from httpcore==1.*->httpx>=0.24.1->gradio) (0.14.0)\n",
      "Requirement already satisfied: filelock in c:\\users\\kusutoqlu\\anaconda3\\lib\\site-packages (from huggingface-hub>=0.25.1->gradio) (3.13.1)\n",
      "Requirement already satisfied: requests in c:\\users\\kusutoqlu\\anaconda3\\lib\\site-packages (from huggingface-hub>=0.25.1->gradio) (2.32.2)\n",
      "Requirement already satisfied: tqdm>=4.42.1 in c:\\users\\kusutoqlu\\anaconda3\\lib\\site-packages (from huggingface-hub>=0.25.1->gradio) (4.66.4)\n",
      "Requirement already satisfied: python-dateutil>=2.8.2 in c:\\users\\kusutoqlu\\anaconda3\\lib\\site-packages (from pandas<3.0,>=1.0->gradio) (2.9.0.post0)\n",
      "Requirement already satisfied: pytz>=2020.1 in c:\\users\\kusutoqlu\\anaconda3\\lib\\site-packages (from pandas<3.0,>=1.0->gradio) (2024.1)\n",
      "Requirement already satisfied: tzdata>=2022.7 in c:\\users\\kusutoqlu\\anaconda3\\lib\\site-packages (from pandas<3.0,>=1.0->gradio) (2023.3)\n",
      "Requirement already satisfied: annotated-types>=0.4.0 in c:\\users\\kusutoqlu\\anaconda3\\lib\\site-packages (from pydantic>=2.0->gradio) (0.6.0)\n",
      "Requirement already satisfied: pydantic-core==2.14.6 in c:\\users\\kusutoqlu\\anaconda3\\lib\\site-packages (from pydantic>=2.0->gradio) (2.14.6)\n",
      "Requirement already satisfied: click>=8.0.0 in c:\\users\\kusutoqlu\\anaconda3\\lib\\site-packages (from typer<1.0,>=0.12->gradio) (8.1.7)\n",
      "Requirement already satisfied: shellingham>=1.3.0 in c:\\users\\kusutoqlu\\anaconda3\\lib\\site-packages (from typer<1.0,>=0.12->gradio) (1.5.4)\n",
      "Requirement already satisfied: rich>=10.11.0 in c:\\users\\kusutoqlu\\anaconda3\\lib\\site-packages (from typer<1.0,>=0.12->gradio) (13.9.2)\n",
      "Requirement already satisfied: colorama in c:\\users\\kusutoqlu\\anaconda3\\lib\\site-packages (from click>=8.0.0->typer<1.0,>=0.12->gradio) (0.4.6)\n",
      "Requirement already satisfied: six>=1.5 in c:\\users\\kusutoqlu\\anaconda3\\lib\\site-packages (from python-dateutil>=2.8.2->pandas<3.0,>=1.0->gradio) (1.16.0)\n",
      "Requirement already satisfied: markdown-it-py>=2.2.0 in c:\\users\\kusutoqlu\\anaconda3\\lib\\site-packages (from rich>=10.11.0->typer<1.0,>=0.12->gradio) (3.0.0)\n",
      "Requirement already satisfied: pygments<3.0.0,>=2.13.0 in c:\\users\\kusutoqlu\\anaconda3\\lib\\site-packages (from rich>=10.11.0->typer<1.0,>=0.12->gradio) (2.15.1)\n",
      "Requirement already satisfied: charset-normalizer<4,>=2 in c:\\users\\kusutoqlu\\anaconda3\\lib\\site-packages (from requests->huggingface-hub>=0.25.1->gradio) (2.0.4)\n",
      "Requirement already satisfied: urllib3<3,>=1.21.1 in c:\\users\\kusutoqlu\\anaconda3\\lib\\site-packages (from requests->huggingface-hub>=0.25.1->gradio) (2.2.2)\n",
      "Requirement already satisfied: mdurl~=0.1 in c:\\users\\kusutoqlu\\anaconda3\\lib\\site-packages (from markdown-it-py>=2.2.0->rich>=10.11.0->typer<1.0,>=0.12->gradio) (0.1.2)\n"
     ]
    }
   ],
   "source": [
    "#Gradio Kütüphanesi yükleme alanı\n",
    "!pip install gradio"
   ]
  },
  {
   "cell_type": "code",
   "execution_count": 2,
   "id": "62e6c5c6-c078-4b65-b210-20c323d6c4c6",
   "metadata": {},
   "outputs": [
    {
     "name": "stdout",
     "output_type": "stream",
     "text": [
      "Requirement already satisfied: numpy in c:\\users\\kusutoqlu\\anaconda3\\lib\\site-packages (1.26.4)\n"
     ]
    }
   ],
   "source": [
    "#Numpy Kütüphanesi yükleme alanı\n",
    "!pip install numpy"
   ]
  },
  {
   "cell_type": "code",
   "execution_count": 3,
   "id": "f650095f-b12d-4ad4-8244-7d1a1bfbf589",
   "metadata": {},
   "outputs": [],
   "source": [
    "#Etkileşimli Veri Görselleştirme Kütüphanesi yükleme alanı\n"
   ]
  },
  {
   "cell_type": "code",
   "execution_count": 4,
   "id": "4e132af5-3125-43cc-8f99-c73af45339bd",
   "metadata": {},
   "outputs": [
    {
     "name": "stdout",
     "output_type": "stream",
     "text": [
      "* Running on local URL:  http://127.0.0.1:7860\n",
      "\n",
      "To create a public link, set `share=True` in `launch()`.\n"
     ]
    },
    {
     "data": {
      "text/html": [
       "<div><iframe src=\"http://127.0.0.1:7860/\" width=\"100%\" height=\"500\" allow=\"autoplay; camera; microphone; clipboard-read; clipboard-write;\" frameborder=\"0\" allowfullscreen></iframe></div>"
      ],
      "text/plain": [
       "<IPython.core.display.HTML object>"
      ]
     },
     "metadata": {},
     "output_type": "display_data"
    },
    {
     "data": {
      "text/plain": []
     },
     "execution_count": 4,
     "metadata": {},
     "output_type": "execute_result"
    }
   ],
   "source": [
    "import cv2\n",
    "import numpy as np\n",
    "import gradio as gr\n",
    "\n",
    "# Filtre Fonksiyonları\n",
    "def apply_gaussian_blur(frame):\n",
    "    return cv2.GaussianBlur(frame, (15, 15), 0)\n",
    "\n",
    "def apply_sharpening_filter(frame):\n",
    "    kernel = np.array([[0, -1, 0], [-1, 5, -1], [0, -1, 0]])\n",
    "    return cv2.filter2D(frame, -1, kernel)\n",
    "\n",
    "def apply_edge_detection(frame):\n",
    "    return cv2.Canny(frame, 100, 200)\n",
    "\n",
    "def apply_invert_filter(frame):\n",
    "    return cv2.bitwise_not(frame)\n",
    "\n",
    "def adjust_brightness_contrast(frame, alpha=1.0, beta=0):\n",
    "    return cv2.convertScaleAbs(frame, alpha=alpha, beta=beta)\n",
    "\n",
    "def apply_grayscale_filter(frame):\n",
    "    return cv2.cvtColor(frame, cv2.COLOR_BGR2GRAY)\n",
    "\n",
    "def apply_median_blur(frame):\n",
    "    return cv2.medianBlur(frame, 15)\n",
    "\n",
    "def apply_bilateral_filter(frame):\n",
    "    return cv2.bilateralFilter(frame, 9, 75, 75)\n",
    "\n",
    "def apply_HSV(frame):\n",
    "    return cv2.cvtColor(frame, cv2.COLOR_BGR2HSV)\n",
    "\n",
    "def apply_LAB(frame):\n",
    "    return cv2.cvtColor(frame, cv2.COLOR_BGR2LAB)\n",
    "\n",
    "def apply_box_filter(frame):\n",
    "    return cv2.boxFilter(frame, ddepth=-1, ksize=(7, 7), normalize=True)\n",
    "\n",
    "# Filtreleri uygulama fonksiyonu\n",
    "def apply_multiple_filters(filter_types, input_image):\n",
    "    if input_image is None:\n",
    "        return [], 0, 0  # Görüntü yüklenmemişse döner\n",
    "\n",
    "    results = []\n",
    "    frame = input_image\n",
    "\n",
    "    for filter_type in filter_types:\n",
    "        if filter_type == \"Gaussian Blur\":\n",
    "            filtered_frame = apply_gaussian_blur(frame)\n",
    "        elif filter_type == \"Sharpen\":\n",
    "            filtered_frame = apply_sharpening_filter(frame)\n",
    "        elif filter_type == \"Edge Detection\":\n",
    "            filtered_frame = apply_edge_detection(frame)\n",
    "        elif filter_type == \"Invert\":\n",
    "            filtered_frame = apply_invert_filter(frame)\n",
    "        elif filter_type == \"Brightness\":\n",
    "            filtered_frame = adjust_brightness_contrast(frame, alpha=1.0, beta=50)\n",
    "        elif filter_type == \"Grayscale\":\n",
    "            filtered_frame = apply_grayscale_filter(frame)\n",
    "        elif filter_type == \"Median Blur\":\n",
    "            filtered_frame = apply_median_blur(frame)\n",
    "        elif filter_type == \"Bilateral Filter\":\n",
    "            filtered_frame = apply_bilateral_filter(frame)\n",
    "        elif filter_type == \"HSV Filter\":\n",
    "            filtered_frame = apply_HSV(frame)\n",
    "        elif filter_type == \"LAB Filter\":\n",
    "            filtered_frame = apply_LAB(frame)\n",
    "        elif filter_type == \"Box Filter\":\n",
    "            filtered_frame = apply_box_filter(frame)\n",
    "\n",
    "        results.append(filtered_frame)\n",
    "\n",
    "    filter_apply_count = len(filter_types)  # Uygulanan filtre sayısı\n",
    "    filtered_image_count = len(results)  # Filtrelenen görüntü sayısı\n",
    "    return results, filter_apply_count, filtered_image_count\n",
    "\n",
    "# Görüntü yükleme sayaç fonksiyonu\n",
    "def update_image_upload_count(image):\n",
    "    return 1  # Görüntü yüklendiğinde sayıyı 1 olarak ayarlar\n",
    "\n",
    "# Çıktıyı temizlemek için fonksiyon\n",
    "def clear_output():\n",
    "    return [], 0, 0, 0  # Tüm sayaçları sıfırlar\n",
    "\n",
    "# Gradio arayüzü\n",
    "with gr.Blocks() as demo:\n",
    "    gr.Markdown(\"# FOTOĞRAFLARI FİLTRELEME\")\n",
    "\n",
    "    # Sayaçları sağ üst köşeye yerleştirmek için Row bloğu kullanıyoruz\n",
    "    with gr.Row():\n",
    "        image_upload_count_display = gr.Number(value=0, label=\"Resim Yükleme Sayısı\", interactive=False)\n",
    "        filter_apply_count_display = gr.Number(value=0, label=\"Filtre Uygulama Sayısı\", interactive=False)\n",
    "        filtered_image_count_display = gr.Number(value=0, label=\"Filtrelenmiş Resim Sayısı\", interactive=False)\n",
    "\n",
    "    # Filtre seçenekleri\n",
    "    filter_type = gr.CheckboxGroup(\n",
    "        label=\"Filtre Seçin\",\n",
    "        choices=[\"Gaussian Blur\", \"Sharpen\", \"Edge Detection\", \"Invert\", \"Brightness\", \"Grayscale\", \n",
    "                 \"Median Blur\", \"Bilateral Filter\", \"HSV Filter\", \"LAB Filter\", \"Box Filter\"],\n",
    "        value=[\"Gaussian Blur\"],\n",
    "    )\n",
    "\n",
    "    # Görüntü Yükleme Alanı\n",
    "    input_image = gr.Image(label=\"Resim Yükle\")\n",
    "    input_image.change(fn=update_image_upload_count, inputs=input_image, outputs=image_upload_count_display)\n",
    "\n",
    "    # Çıktı İçin Görüntüler (galeri olarak yan yana göstermek için)\n",
    "    output_images = gr.Gallery(label=\"Seçilen Filtreler Uygulandı\", columns=3)\n",
    "\n",
    "    # Filtre uygulama butonu\n",
    "    apply_button = gr.Button(\"Filtreleri Uygula\")\n",
    "    apply_button.click(fn=apply_multiple_filters, inputs=[filter_type, input_image], outputs=[output_images, filter_apply_count_display, filtered_image_count_display])\n",
    "\n",
    "    # Çıktıyı temizleme butonu\n",
    "    clear_button = gr.Button(\"Temizle\")\n",
    "    clear_button.click(fn=clear_output, inputs=[], outputs=[output_images, filter_apply_count_display, filtered_image_count_display, image_upload_count_display])\n",
    "\n",
    "# Gradio arayüzünün başlatıldığı kod\n",
    "demo.launch()\n",
    "\n"
   ]
  },
  {
   "cell_type": "code",
   "execution_count": null,
   "id": "1d5d371a-c37a-4855-aaaf-4493ce9eaba6",
   "metadata": {},
   "outputs": [],
   "source": []
  }
 ],
 "metadata": {
  "kernelspec": {
   "display_name": "env_ybs",
   "language": "python",
   "name": "env_ybs"
  },
  "language_info": {
   "codemirror_mode": {
    "name": "ipython",
    "version": 3
   },
   "file_extension": ".py",
   "mimetype": "text/x-python",
   "name": "python",
   "nbconvert_exporter": "python",
   "pygments_lexer": "ipython3",
   "version": "3.12.4"
  }
 },
 "nbformat": 4,
 "nbformat_minor": 5
}
