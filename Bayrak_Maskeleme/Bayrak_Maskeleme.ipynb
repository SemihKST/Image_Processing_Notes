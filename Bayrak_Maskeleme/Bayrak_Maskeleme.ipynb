{
 "cells": [
  {
   "cell_type": "code",
   "execution_count": 2,
   "id": "cd99d7f9-78ca-4ddf-8a58-61dfd3fc5c14",
   "metadata": {},
   "outputs": [],
   "source": [
    "import cv2\n",
    "import numpy as np\n",
    "\n",
    "\n",
    "franch_flag = cv2.imread(\"./franch_flag.jpg\")\n",
    "\n",
    "# Görüntüyü HSV formatına çevirme\n",
    "hsv_image = cv2.cvtColor(franch_flag, cv2.COLOR_BGR2HSV)\n",
    "\n",
    "# Mavi renk aralığını belirleme\n",
    "lower_blue = np.array([75, 100, 100])\n",
    "upper_blue = np.array([130, 255, 255])\n",
    "\n",
    "# Mavi alanlar için maske oluşturma\n",
    "mask = cv2.inRange(hsv_image, lower_blue, upper_blue)\n",
    "\n",
    "# Yeni rengi tanımlama (yeşil)\n",
    "green_color = (0, 255, 0)  # Yeşil renk (BGR formatında)\n",
    "\n",
    "# Maskeyi uygulayarak yeni renkli görüntü oluşturma\n",
    "masked_image = franch_flag.copy()\n",
    "masked_image[mask == 255] = green_color\n",
    "\n",
    "\n",
    "\n",
    "# Görüntüleri gösterme\n",
    "cv2.imshow(\"France Flag\", franch_flag)\n",
    "cv2.imshow(\"Italy Flag\", masked_image)\n",
    "\n",
    "# Pencereyi kapatma\n",
    "cv2.waitKey(0)\n",
    "cv2.destroyAllWindows()\n"
   ]
  }
 ],
 "metadata": {
  "kernelspec": {
   "display_name": "env_ybs",
   "language": "python",
   "name": "env_ybs"
  },
  "language_info": {
   "codemirror_mode": {
    "name": "ipython",
    "version": 3
   },
   "file_extension": ".py",
   "mimetype": "text/x-python",
   "name": "python",
   "nbconvert_exporter": "python",
   "pygments_lexer": "ipython3",
   "version": "3.12.4"
  }
 },
 "nbformat": 4,
 "nbformat_minor": 5
}
